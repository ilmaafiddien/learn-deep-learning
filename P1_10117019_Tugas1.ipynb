{
  "nbformat": 4,
  "nbformat_minor": 0,
  "metadata": {
    "colab": {
      "name": "P1_10117019_Tugas1",
      "provenance": [],
      "authorship_tag": "ABX9TyOHO2jcRv3Jwgt5ZVdw2/G3",
      "include_colab_link": true
    },
    "kernelspec": {
      "name": "python3",
      "display_name": "Python 3"
    }
  },
  "cells": [
    {
      "cell_type": "markdown",
      "metadata": {
        "id": "view-in-github",
        "colab_type": "text"
      },
      "source": [
        "<a href=\"https://colab.research.google.com/github/ilmaaliyaf/learn-deep-learning/blob/main/P1_10117019_Tugas1.ipynb\" target=\"_parent\"><img src=\"https://colab.research.google.com/assets/colab-badge.svg\" alt=\"Open In Colab\"/></a>"
      ]
    },
    {
      "cell_type": "code",
      "metadata": {
        "id": "vnhsLN-MZajm"
      },
      "source": [
        "import numpy as np"
      ],
      "execution_count": null,
      "outputs": []
    },
    {
      "cell_type": "code",
      "metadata": {
        "id": "-vsDEZU1Zdx4"
      },
      "source": [
        "class Elips(object):\r\n",
        "    ''' Titik pusat selalu (0,0) | input berupa jarak major dan minor '''\r\n",
        "    def __init__(self, a, b):\r\n",
        "        self.a, self.b = a, b\r\n",
        "        self.fokus = [(np.sqrt(a**2-b**2),0), (-np.sqrt(a**2-b**2),0)]\r\n",
        "        self.pusat = [0,0]\r\n",
        "        \r\n",
        "        self.luas = np.pi * a * b\r\n",
        "        self.keliling = 2 * np.pi * np.sqrt( (a**2 + b**2) / 2 ) # aproksimasi\r\n",
        "        self.eksentrisitas = np.sqrt( 1 - (b/a)**2 )\r\n",
        "\r\n",
        "    def apakah_lingkaran(self):\r\n",
        "        ''' Mengecek apakah elips adalah lingkaran '''\r\n",
        "        return self.eksentrisitas == 0.0\r\n",
        "    \r\n",
        "    def mengandung(self, titik):\r\n",
        "        ''' Mengecek apakah suatu titik berada pada elips '''\r\n",
        "        x, y = titik\r\n",
        "        return (x - self.pusat[0])**2/self.a**2 + (y - self.pusat[1])**2/self.b**2 == 1 # persamaan elips\r\n",
        "    \r\n",
        "    def tangent(self, titik):\r\n",
        "        ''' Mencari garis tangent suatu titik pada elips '''\r\n",
        "        if self.pada_elips(titik):\r\n",
        "            x1, y1 = titik\r\n",
        "            x = x1/(self.a - self.pusat[0])**2\r\n",
        "            y = y1/(self.b - self.pusat[1])**2\r\n",
        "            print(\"Garis tangent titik {} adalah: {}x + {}y = 1\".format(titik, x, y))\r\n",
        "        else:\r\n",
        "            print(\"Tidak ada garis tangent untuk\", titik)\r\n",
        "\r\n",
        "    def translasi(self, dx, dy):\r\n",
        "        self.pusat = np.add(self.pusat, [dx, dy])\r\n",
        "\r\n",
        "\r\n",
        "class Lingkaran(Elips):\r\n",
        "    def __init__(self, r):\r\n",
        "        super().__init__(r,r)"
      ],
      "execution_count": null,
      "outputs": []
    },
    {
      "cell_type": "code",
      "metadata": {
        "colab": {
          "base_uri": "https://localhost:8080/"
        },
        "id": "IKrojJVXa0A3",
        "outputId": "f3b84a2e-3c46-446c-a097-7226444641fe"
      },
      "source": [
        "E = Elips(2, 2)\r\n",
        "print(\"Titik fokus elips E:\", E.fokus)\r\n",
        "print(\"Luas elips E:\", E.luas)\r\n",
        "print(\"Keliling elips E:\", E.keliling)\r\n",
        "print(\"Eksentrisitas elips E:\", E.eksentrisitas)\r\n",
        "print(\"Apakah elips E lingkaran?\", (E.apakah_lingkaran()))\r\n",
        "print(\"Apakah titik (0,2) terdapat pada elips E?\", E.mengandung((0,2)))\r\n",
        "E.tangent((0,2))\r\n",
        "print(\"Apakah titik (0,2) terdapat pada elips E?\", E.mengandung((0,2)))\r\n",
        "print(\"Apakah titik (1,2) terdapat pada elips E?\", E.mengandung((1,2)))\r\n",
        "E.translasi(1,0)\r\n",
        "print(\"Apakah titik (0,2) terdapat pada elips E?\", E.mengandung((0,2)))\r\n",
        "print(\"Apakah titik (1,2) terdapat pada elips E?\", E.mengandung((1,2)))\r\n",
        "E.tangent((0,2))\r\n",
        "E.tangent((1,2))"
      ],
      "execution_count": null,
      "outputs": [
        {
          "output_type": "stream",
          "text": [
            "Titik fokus elips E: [(0.0, 0), (-0.0, 0)]\n",
            "Luas elips E: 12.566370614359172\n",
            "Keliling elips E: 12.566370614359172\n",
            "Eksentrisitas elips E: 0.0\n",
            "Apakah elips E lingkaran? True\n",
            "Apakah titik (0,2) terdapat pada elips E? True\n",
            "Garis tangent titik (0, 2) adalah: 0.0x + 0.5y = 1\n",
            "Apakah titik (0,2) terdapat pada elips E? True\n",
            "Apakah titik (1,2) terdapat pada elips E? False\n",
            "Apakah titik (0,2) terdapat pada elips E? False\n",
            "Apakah titik (1,2) terdapat pada elips E? True\n",
            "Tidak ada garis tangent untuk (0, 2)\n",
            "Garis tangent titik (1, 2) adalah: 1.0x + 0.5y = 1\n"
          ],
          "name": "stdout"
        }
      ]
    },
    {
      "cell_type": "code",
      "metadata": {
        "colab": {
          "base_uri": "https://localhost:8080/"
        },
        "id": "2_j2jiUalIwu",
        "outputId": "1f43308f-66b3-477e-f2c2-961930140860"
      },
      "source": [
        "E"
      ],
      "execution_count": null,
      "outputs": [
        {
          "output_type": "execute_result",
          "data": {
            "text/plain": [
              "<__main__.Elips at 0x7f7b03e31668>"
            ]
          },
          "metadata": {
            "tags": []
          },
          "execution_count": 91
        }
      ]
    },
    {
      "cell_type": "code",
      "metadata": {
        "colab": {
          "base_uri": "https://localhost:8080/"
        },
        "id": "Vo4NTyk5kA9i",
        "outputId": "fb608f82-8add-4c9d-c6d9-d7bb1efdd3c4"
      },
      "source": [
        "L = Lingkaran(1)\r\n",
        "L.pada_elips((0,1))\r\n",
        "L.eksentrisitas"
      ],
      "execution_count": null,
      "outputs": [
        {
          "output_type": "execute_result",
          "data": {
            "text/plain": [
              "0.0"
            ]
          },
          "metadata": {
            "tags": []
          },
          "execution_count": 82
        }
      ]
    },
    {
      "cell_type": "markdown",
      "metadata": {
        "id": "2ZJt9e9TZXh3"
      },
      "source": [
        "# Tugas 2"
      ]
    },
    {
      "cell_type": "code",
      "metadata": {
        "id": "OjHE67xDQMU6"
      },
      "source": [
        "class FungsiKuadrat(object):\r\n",
        "    ''' c + bx + ax^2 '''\r\n",
        "    def __init__(self, koef):\r\n",
        "        self.koefisien = koef\r\n",
        "    \r\n",
        "    def persamaan(self):\r\n",
        "        return \"{} + {}x + {}x^2\".format(self.koefisien[0],\r\n",
        "                                         self.koefisien[1],\r\n",
        "                                         self.koefisien[2]) \r\n",
        "    \r\n",
        "    def titik_stasioner(self):\r\n",
        "        [c, b, a] = self.koefisien\r\n",
        "        if c == 0:\r\n",
        "            return \"Tidak ada titik stasioner\"\r\n",
        "        else:\r\n",
        "            return (-b/(2*a), -b**2/(4*a) + c)\r\n",
        "\r\n",
        "    def titik_potong_sumbu(self, sumbu):\r\n",
        "        [c, b, a] = self.koefisien\r\n",
        "        if sumbu == \"x\":\r\n",
        "            x1 = (-b + (b**2 - 2*a*c)**(1/2)) / (2*a)\r\n",
        "            x2 = (-b - (b**2 - 2*a*c)**(1/2)) / (2*a)\r\n",
        "            return \"tpx1 = ({:.2f}, 0) \\t tpx2 = ({:.2f}, 0)\".format(x1, x2)\r\n",
        "        elif sumbu == \"y\":\r\n",
        "            return \"tpy = (0, {:.2f})\".format(c)\r\n",
        "        else:\r\n",
        "            return \"Pilih sumbu-x atau sumbu-y\"\r\n",
        "\r\n",
        "    def turunan(self, k): \r\n",
        "        # belum beres kalau yang jadi input itu \r\n",
        "        if type(k) is not int or k < 0:\r\n",
        "            return \"Pilih k bilangan bulat positif\"\r\n",
        "        else:\r\n",
        "            if k == 1 and self.koefisien[2] != 0 :\r\n",
        "                koef = [self.koefisien[1], 2*self.koefisien[0], 0]\r\n",
        "            elif k == 2 and self.koefisien[2] != 0 :\r\n",
        "                koef = [self.koefisien[0], 0, 0]\r\n",
        "            else:\r\n",
        "                koef = [0, 0, 0]\r\n",
        "            return FungsiKuadrat(koef)\r\n",
        "    \r\n",
        "    def kecekungan(self):\r\n",
        "        [c, b, a] = self.koefisien\r\n",
        "        if a > 0:\r\n",
        "            return \"Fungsi cekung ke atas\"\r\n",
        "        else:\r\n",
        "            return \"Fungsi cekung ke bawah\""
      ],
      "execution_count": null,
      "outputs": []
    },
    {
      "cell_type": "code",
      "metadata": {
        "colab": {
          "base_uri": "https://localhost:8080/"
        },
        "id": "QlC_bA7se-lb",
        "outputId": "561b35a9-7164-4470-d24a-28082ff8afd4"
      },
      "source": [
        "f = FungsiKuadrat([1,2,-1])\r\n",
        "print(f.persamaan())\r\n",
        "\r\n",
        "print(f.titik_stasioner())\r\n",
        "print(f.titik_potong_sumbu(\"x\"))\r\n",
        "print(f.titik_potong_sumbu(\"y\"))\r\n",
        "\r\n",
        "g = f.turunan(1)\r\n",
        "h = f.turunan(2)\r\n",
        "m = h.turunan(1)\r\n",
        "print(f.persamaan())\r\n",
        "print(g.persamaan())\r\n",
        "print(h.persamaan())\r\n",
        "print(m.persamaan())\r\n",
        "\r\n",
        "print(f.kecekungan())"
      ],
      "execution_count": null,
      "outputs": [
        {
          "output_type": "stream",
          "text": [
            "1 + 2x + -1x^2\n",
            "(1.0, 2.0)\n",
            "tpx1 = (-0.22, 0) \t tpx2 = (2.22, 0)\n",
            "tpy = (0, 1.00)\n",
            "1 + 2x + -1x^2\n",
            "2 + 2x + 0x^2\n",
            "1 + 0x + 0x^2\n",
            "0 + 0x + 0x^2\n",
            "Fungsi cekung ke bawah\n"
          ],
          "name": "stdout"
        }
      ]
    }
  ]
}