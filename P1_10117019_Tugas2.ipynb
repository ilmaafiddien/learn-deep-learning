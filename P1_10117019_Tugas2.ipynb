{
  "nbformat": 4,
  "nbformat_minor": 0,
  "metadata": {
    "colab": {
      "name": "P1_10117019_Tugas2",
      "provenance": [],
      "authorship_tag": "ABX9TyPV2zrAJjwRCDcX7MCEpZQI",
      "include_colab_link": true
    },
    "kernelspec": {
      "name": "python3",
      "display_name": "Python 3"
    }
  },
  "cells": [
    {
      "cell_type": "markdown",
      "metadata": {
        "id": "view-in-github",
        "colab_type": "text"
      },
      "source": [
        "<a href=\"https://colab.research.google.com/github/ilmaaliyaf/learn-deep-learning/blob/main/P1_10117019_Tugas2.ipynb\" target=\"_parent\"><img src=\"https://colab.research.google.com/assets/colab-badge.svg\" alt=\"Open In Colab\"/></a>"
      ]
    },
    {
      "cell_type": "code",
      "metadata": {
        "id": "2Azot2klnBhK"
      },
      "source": [
        "import numpy as np"
      ],
      "execution_count": null,
      "outputs": []
    },
    {
      "cell_type": "code",
      "metadata": {
        "id": "OjHE67xDQMU6"
      },
      "source": [
        "class FungsiKuadrat(object):\r\n",
        "    ''' c + bx + ax^2 '''\r\n",
        "    def __init__(self, koef):\r\n",
        "        self.koefisien = koef\r\n",
        "    \r\n",
        "    def persamaan(self):\r\n",
        "        return \"{} + {}x + {}x^2\".format(self.koefisien[0],\r\n",
        "                                         self.koefisien[1],\r\n",
        "                                         self.koefisien[2]) \r\n",
        "    \r\n",
        "    def titik_stasioner(self):\r\n",
        "        [c, b, a] = self.koefisien\r\n",
        "        if c == 0:\r\n",
        "            return \"Tidak ada titik stasioner\"\r\n",
        "        else:\r\n",
        "            return (-b/(2*a), -b**2/(4*a) + c)\r\n",
        "\r\n",
        "    def titik_potong_sumbu(self, sumbu):\r\n",
        "        [c, b, a] = self.koefisien\r\n",
        "        if sumbu == \"x\":\r\n",
        "            x1 = (-b + (b**2 - 2*a*c)**(1/2)) / (2*a)\r\n",
        "            x2 = (-b - (b**2 - 2*a*c)**(1/2)) / (2*a)\r\n",
        "            return \"tpx1 = ({:.2f}, 0) \\t tpx2 = ({:.2f}, 0)\".format(x1, x2)\r\n",
        "        elif sumbu == \"y\":\r\n",
        "            return \"tpy = (0, {:.2f})\".format(c)\r\n",
        "        else:\r\n",
        "            return \"Pilih sumbu-x atau sumbu-y\"\r\n",
        "\r\n",
        "    def turunan(self, k): \r\n",
        "        # belum beres kalau yang jadi input itu \r\n",
        "        if type(k) is not int or k < 0:\r\n",
        "            return \"Pilih k bilangan bulat positif\"\r\n",
        "        else:\r\n",
        "            if k == 1 and self.koefisien[2] != 0 :\r\n",
        "                koef = [self.koefisien[1], 2*self.koefisien[0], 0]\r\n",
        "            elif k == 2 and self.koefisien[2] != 0 :\r\n",
        "                koef = [self.koefisien[0], 0, 0]\r\n",
        "            else:\r\n",
        "                koef = [0, 0, 0]\r\n",
        "            return FungsiKuadrat(koef)\r\n",
        "    \r\n",
        "    def kecekungan(self):\r\n",
        "        [c, b, a] = self.koefisien\r\n",
        "        if a > 0:\r\n",
        "            return \"Fungsi cekung ke atas\"\r\n",
        "        else:\r\n",
        "            return \"Fungsi cekung ke bawah\""
      ],
      "execution_count": null,
      "outputs": []
    },
    {
      "cell_type": "code",
      "metadata": {
        "colab": {
          "base_uri": "https://localhost:8080/"
        },
        "id": "QlC_bA7se-lb",
        "outputId": "b9089eda-0122-4e6d-d499-a24ec104d8e1"
      },
      "source": [
        "f = FungsiKuadrat([1,2,-1])\r\n",
        "f_ = FungsiKuadrat([1,2,1])\r\n",
        "print(f.persamaan())\r\n",
        "\r\n",
        "print(f.titik_stasioner())\r\n",
        "print(f.titik_potong_sumbu(\"x\"))\r\n",
        "print(f.titik_potong_sumbu(\"y\"))\r\n",
        "\r\n",
        "g = f.turunan(1)\r\n",
        "h = f.turunan(2)\r\n",
        "m = h.turunan(1)\r\n",
        "print(f.persamaan())\r\n",
        "print(g.persamaan())\r\n",
        "print(h.persamaan())\r\n",
        "print(m.persamaan())\r\n",
        "\r\n",
        "print(f.kecekungan())\r\n",
        "print(f_.kecekungan())"
      ],
      "execution_count": null,
      "outputs": [
        {
          "output_type": "stream",
          "text": [
            "1 + 2x + -1x^2\n",
            "(1.0, 2.0)\n",
            "tpx1 = (-0.22, 0) \t tpx2 = (2.22, 0)\n",
            "tpy = (0, 1.00)\n",
            "1 + 2x + -1x^2\n",
            "2 + 2x + 0x^2\n",
            "1 + 0x + 0x^2\n",
            "0 + 0x + 0x^2\n",
            "Fungsi cekung ke bawah\n",
            "Fungsi cekung ke atas\n"
          ],
          "name": "stdout"
        }
      ]
    }
  ]
}